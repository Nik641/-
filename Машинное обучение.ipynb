{
 "cells": [
  {
   "cell_type": "markdown",
   "metadata": {},
   "source": [
    "# Задача\n",
    "Сеть фитнес-центров «Культурист-датасаентист» разрабатывает стратегию взаимодействия с клиентами на основе аналитических данных.\n",
    "\n",
    "Нужно понять, почему происходит отток клиентов\n",
    "\n",
    "Распространённая проблема фитнес-клубов и других сервисов — отток клиентов. Как понять, что клиент больше не с вами? Можно записать в отток тех, кто попросил закрыть договор или удалил аккаунт. Однако клиенты не всегда уходят демонстративно: чаще перестают пользоваться сервисом тихо.\n",
    "\n",
    "Ваша задача — провести анализ и подготовить план действий по удержанию клиентов:\n",
    " \n",
    "- научиться прогнозировать вероятность оттока (на уровне следующего месяца) для каждого клиента;\n",
    "- сформировать типичные портреты клиентов: выделить несколько наиболее ярких групп и охарактеризовать их основные свойства; \n",
    "- проанализировать основные признаки, наиболее сильно влияющие на отток; \n",
    "- сформулировать основные выводы и разработать рекомендации по повышению качества работы с клиентами:\n",
    "\n",
    "1. Выделить целевые группы клиентов \n",
    "2. Предложить меры по снижению оттока \n",
    "3. Определить другие особенности взаимодействия с клиентами.\n",
    "\n",
    "**Описание данных**\n",
    "\n",
    "'Churn' — факт оттока в текущем месяце;\n",
    "\n",
    "Текущие поля в датасете:\n",
    "\n",
    "Данные клиента за предыдущий до проверки факта оттока месяц:\n",
    "\n",
    "- 'gender' — пол;\n",
    "- 'Near_Location' — проживание или работа в районе, где находится фитнес-центр;\n",
    "- 'Partner' — сотрудник компании-партнёра клуба (сотрудничество с компаниями, чьи сотрудники могут получать скидки на абонемент — в таком случае фитнес-центр хранит информацию о работодателе клиента);\n",
    "- 'Promo_friends' — факт первоначальной записи в рамках акции «приведи друга» (использовал промо-код от знакомого при оплате первого абонемента);\n",
    "- 'Phone' — наличие контактного телефона;\n",
    "- 'Age' — возраст;\n",
    "- 'Lifetime' — время с момента первого обращения в фитнес-центр (в месяцах).\n",
    "\n",
    "Информация на основе журнала посещений, покупок и информация о текущем статусе абонемента клиента:\n",
    "\n",
    "- 'Contract_period' — длительность текущего действующего абонемента (месяц, 3 месяца, 6 месяцев, год);\n",
    "- 'Month_to_end_contract' — срок до окончания текущего действующего абонемента (в месяцах);\n",
    "- 'Group_visits' — факт посещения групповых занятий;\n",
    "- 'Avg_class_frequency_total' — средняя частота посещений в неделю за все время с начала действия абонемента;\n",
    "- 'Avg_class_frequency_current_month' — средняя частота посещений в неделю за предыдущий месяц;\n",
    "- 'Avg_additional_charges_total' — суммарная выручка от других услуг фитнес-центра: кафе, спорт-товары, косметический и массажный салон."
   ]
  },
  {
   "cell_type": "markdown",
   "metadata": {},
   "source": [
    "## Загрузить данные, ознакомиться с ними"
   ]
  },
  {
   "cell_type": "code",
   "execution_count": 1,
   "metadata": {},
   "outputs": [],
   "source": [
    "#импортируем необходимые библиотеки\n",
    "import pandas as pd\n",
    "import numpy as np\n",
    "import seaborn as sns\n",
    "\n",
    "import matplotlib\n",
    "import matplotlib.pyplot as plt\n",
    "import re\n",
    "\n",
    "from sklearn.model_selection import train_test_split\n",
    "from sklearn.linear_model import LogisticRegression\n",
    "from sklearn.ensemble import RandomForestClassifier\n",
    "from sklearn.preprocessing import StandardScaler\n",
    "from sklearn.metrics import accuracy_score, precision_score, recall_score, f1_score\n",
    "from scipy.cluster.hierarchy import dendrogram, linkage\n",
    "from sklearn.cluster import KMeans\n",
    "from sklearn.ensemble import RandomForestRegressor, GradientBoostingClassifier\n",
    "from sklearn.model_selection import RandomizedSearchCV\n",
    "from sklearn.model_selection import cross_val_score\n",
    "\n",
    "#доп настройки\n",
    "pd.options.display.expand_frame_repr = False\n",
    "import warnings\n",
    "warnings.filterwarnings('ignore')"
   ]
  },
  {
   "cell_type": "code",
   "execution_count": 2,
   "metadata": {
    "scrolled": true
   },
   "outputs": [
    {
     "data": {
      "text/html": [
       "<div>\n",
       "<style scoped>\n",
       "    .dataframe tbody tr th:only-of-type {\n",
       "        vertical-align: middle;\n",
       "    }\n",
       "\n",
       "    .dataframe tbody tr th {\n",
       "        vertical-align: top;\n",
       "    }\n",
       "\n",
       "    .dataframe thead th {\n",
       "        text-align: right;\n",
       "    }\n",
       "</style>\n",
       "<table border=\"1\" class=\"dataframe\">\n",
       "  <thead>\n",
       "    <tr style=\"text-align: right;\">\n",
       "      <th></th>\n",
       "      <th>gender</th>\n",
       "      <th>Near_Location</th>\n",
       "      <th>Partner</th>\n",
       "      <th>Promo_friends</th>\n",
       "      <th>Phone</th>\n",
       "      <th>Contract_period</th>\n",
       "      <th>Group_visits</th>\n",
       "      <th>Age</th>\n",
       "      <th>Avg_additional_charges_total</th>\n",
       "      <th>Month_to_end_contract</th>\n",
       "      <th>Lifetime</th>\n",
       "      <th>Avg_class_frequency_total</th>\n",
       "      <th>Avg_class_frequency_current_month</th>\n",
       "      <th>Churn</th>\n",
       "    </tr>\n",
       "  </thead>\n",
       "  <tbody>\n",
       "    <tr>\n",
       "      <th>1546</th>\n",
       "      <td>1</td>\n",
       "      <td>1</td>\n",
       "      <td>1</td>\n",
       "      <td>1</td>\n",
       "      <td>1</td>\n",
       "      <td>12</td>\n",
       "      <td>0</td>\n",
       "      <td>33</td>\n",
       "      <td>84.176760</td>\n",
       "      <td>12.0</td>\n",
       "      <td>1</td>\n",
       "      <td>1.674687</td>\n",
       "      <td>1.820273</td>\n",
       "      <td>0</td>\n",
       "    </tr>\n",
       "    <tr>\n",
       "      <th>1027</th>\n",
       "      <td>0</td>\n",
       "      <td>1</td>\n",
       "      <td>0</td>\n",
       "      <td>0</td>\n",
       "      <td>1</td>\n",
       "      <td>1</td>\n",
       "      <td>0</td>\n",
       "      <td>28</td>\n",
       "      <td>72.104475</td>\n",
       "      <td>1.0</td>\n",
       "      <td>5</td>\n",
       "      <td>0.843915</td>\n",
       "      <td>0.928677</td>\n",
       "      <td>0</td>\n",
       "    </tr>\n",
       "    <tr>\n",
       "      <th>806</th>\n",
       "      <td>1</td>\n",
       "      <td>1</td>\n",
       "      <td>0</td>\n",
       "      <td>0</td>\n",
       "      <td>1</td>\n",
       "      <td>1</td>\n",
       "      <td>0</td>\n",
       "      <td>23</td>\n",
       "      <td>215.930003</td>\n",
       "      <td>1.0</td>\n",
       "      <td>4</td>\n",
       "      <td>1.283945</td>\n",
       "      <td>0.599889</td>\n",
       "      <td>1</td>\n",
       "    </tr>\n",
       "    <tr>\n",
       "      <th>1209</th>\n",
       "      <td>1</td>\n",
       "      <td>1</td>\n",
       "      <td>1</td>\n",
       "      <td>0</td>\n",
       "      <td>1</td>\n",
       "      <td>6</td>\n",
       "      <td>0</td>\n",
       "      <td>31</td>\n",
       "      <td>278.867984</td>\n",
       "      <td>6.0</td>\n",
       "      <td>8</td>\n",
       "      <td>0.299157</td>\n",
       "      <td>0.197889</td>\n",
       "      <td>0</td>\n",
       "    </tr>\n",
       "    <tr>\n",
       "      <th>3104</th>\n",
       "      <td>1</td>\n",
       "      <td>1</td>\n",
       "      <td>0</td>\n",
       "      <td>0</td>\n",
       "      <td>1</td>\n",
       "      <td>6</td>\n",
       "      <td>1</td>\n",
       "      <td>23</td>\n",
       "      <td>114.316460</td>\n",
       "      <td>4.0</td>\n",
       "      <td>2</td>\n",
       "      <td>2.188799</td>\n",
       "      <td>2.133338</td>\n",
       "      <td>0</td>\n",
       "    </tr>\n",
       "    <tr>\n",
       "      <th>426</th>\n",
       "      <td>0</td>\n",
       "      <td>0</td>\n",
       "      <td>0</td>\n",
       "      <td>0</td>\n",
       "      <td>1</td>\n",
       "      <td>1</td>\n",
       "      <td>0</td>\n",
       "      <td>22</td>\n",
       "      <td>165.298171</td>\n",
       "      <td>1.0</td>\n",
       "      <td>0</td>\n",
       "      <td>0.754360</td>\n",
       "      <td>0.578056</td>\n",
       "      <td>1</td>\n",
       "    </tr>\n",
       "    <tr>\n",
       "      <th>653</th>\n",
       "      <td>1</td>\n",
       "      <td>1</td>\n",
       "      <td>0</td>\n",
       "      <td>0</td>\n",
       "      <td>1</td>\n",
       "      <td>6</td>\n",
       "      <td>0</td>\n",
       "      <td>28</td>\n",
       "      <td>264.842807</td>\n",
       "      <td>6.0</td>\n",
       "      <td>3</td>\n",
       "      <td>2.875982</td>\n",
       "      <td>2.849407</td>\n",
       "      <td>0</td>\n",
       "    </tr>\n",
       "    <tr>\n",
       "      <th>1837</th>\n",
       "      <td>0</td>\n",
       "      <td>1</td>\n",
       "      <td>0</td>\n",
       "      <td>0</td>\n",
       "      <td>1</td>\n",
       "      <td>1</td>\n",
       "      <td>0</td>\n",
       "      <td>29</td>\n",
       "      <td>99.245578</td>\n",
       "      <td>1.0</td>\n",
       "      <td>1</td>\n",
       "      <td>1.357434</td>\n",
       "      <td>1.199090</td>\n",
       "      <td>1</td>\n",
       "    </tr>\n",
       "    <tr>\n",
       "      <th>2364</th>\n",
       "      <td>0</td>\n",
       "      <td>1</td>\n",
       "      <td>0</td>\n",
       "      <td>0</td>\n",
       "      <td>1</td>\n",
       "      <td>1</td>\n",
       "      <td>0</td>\n",
       "      <td>29</td>\n",
       "      <td>311.187187</td>\n",
       "      <td>1.0</td>\n",
       "      <td>1</td>\n",
       "      <td>1.991406</td>\n",
       "      <td>1.984092</td>\n",
       "      <td>0</td>\n",
       "    </tr>\n",
       "    <tr>\n",
       "      <th>2112</th>\n",
       "      <td>0</td>\n",
       "      <td>1</td>\n",
       "      <td>0</td>\n",
       "      <td>0</td>\n",
       "      <td>1</td>\n",
       "      <td>12</td>\n",
       "      <td>1</td>\n",
       "      <td>35</td>\n",
       "      <td>165.996608</td>\n",
       "      <td>11.0</td>\n",
       "      <td>6</td>\n",
       "      <td>2.468044</td>\n",
       "      <td>2.422943</td>\n",
       "      <td>0</td>\n",
       "    </tr>\n",
       "  </tbody>\n",
       "</table>\n",
       "</div>"
      ],
      "text/plain": [
       "      gender  Near_Location  Partner  Promo_friends  Phone  Contract_period  Group_visits  Age  Avg_additional_charges_total  Month_to_end_contract  Lifetime  Avg_class_frequency_total  Avg_class_frequency_current_month  Churn\n",
       "1546       1              1        1              1      1               12             0   33                     84.176760                   12.0         1                   1.674687                           1.820273      0\n",
       "1027       0              1        0              0      1                1             0   28                     72.104475                    1.0         5                   0.843915                           0.928677      0\n",
       "806        1              1        0              0      1                1             0   23                    215.930003                    1.0         4                   1.283945                           0.599889      1\n",
       "1209       1              1        1              0      1                6             0   31                    278.867984                    6.0         8                   0.299157                           0.197889      0\n",
       "3104       1              1        0              0      1                6             1   23                    114.316460                    4.0         2                   2.188799                           2.133338      0\n",
       "426        0              0        0              0      1                1             0   22                    165.298171                    1.0         0                   0.754360                           0.578056      1\n",
       "653        1              1        0              0      1                6             0   28                    264.842807                    6.0         3                   2.875982                           2.849407      0\n",
       "1837       0              1        0              0      1                1             0   29                     99.245578                    1.0         1                   1.357434                           1.199090      1\n",
       "2364       0              1        0              0      1                1             0   29                    311.187187                    1.0         1                   1.991406                           1.984092      0\n",
       "2112       0              1        0              0      1               12             1   35                    165.996608                   11.0         6                   2.468044                           2.422943      0"
      ]
     },
     "execution_count": 2,
     "metadata": {},
     "output_type": "execute_result"
    }
   ],
   "source": [
    "df = pd.read_csv('/datasets/gym_churn.csv')\n",
    "df.sample(10)"
   ]
  },
  {
   "cell_type": "code",
   "execution_count": 3,
   "metadata": {},
   "outputs": [
    {
     "name": "stdout",
     "output_type": "stream",
     "text": [
      "<class 'pandas.core.frame.DataFrame'>\n",
      "RangeIndex: 4000 entries, 0 to 3999\n",
      "Data columns (total 14 columns):\n",
      " #   Column                             Non-Null Count  Dtype  \n",
      "---  ------                             --------------  -----  \n",
      " 0   gender                             4000 non-null   int64  \n",
      " 1   near_location                      4000 non-null   int64  \n",
      " 2   partner                            4000 non-null   int64  \n",
      " 3   promo_friends                      4000 non-null   int64  \n",
      " 4   phone                              4000 non-null   int64  \n",
      " 5   contract_period                    4000 non-null   int64  \n",
      " 6   group_visits                       4000 non-null   int64  \n",
      " 7   age                                4000 non-null   int64  \n",
      " 8   avg_additional_charges_total       4000 non-null   float64\n",
      " 9   month_to_end_contract              4000 non-null   float64\n",
      " 10  lifetime                           4000 non-null   int64  \n",
      " 11  avg_class_frequency_total          4000 non-null   float64\n",
      " 12  avg_class_frequency_current_month  4000 non-null   float64\n",
      " 13  churn                              4000 non-null   int64  \n",
      "dtypes: float64(4), int64(10)\n",
      "memory usage: 437.6 KB\n"
     ]
    }
   ],
   "source": [
    "df.columns = [x.lower() for x in df.columns] # привел наименования колонок в нижний регистр\n",
    "df.info()"
   ]
  },
  {
   "cell_type": "code",
   "execution_count": 4,
   "metadata": {},
   "outputs": [],
   "source": [
    "#переведем тип данных в целочисленный\n",
    "df.month_to_end_contract = df.month_to_end_contract.astype(np.int64)"
   ]
  },
  {
   "cell_type": "markdown",
   "metadata": {},
   "source": [
    "Импортировал библиотеки, открыл файл, посмотрел данные, привел все в нижний регистр, поработал с типами данных."
   ]
  },
  {
   "cell_type": "markdown",
   "metadata": {},
   "source": [
    "## Исследовательский анализ данных (EDA)"
   ]
  },
  {
   "cell_type": "markdown",
   "metadata": {},
   "source": [
    "**Изучить средние значения и стандартные отклонения**"
   ]
  },
  {
   "cell_type": "code",
   "execution_count": 5,
   "metadata": {},
   "outputs": [
    {
     "data": {
      "text/html": [
       "<div>\n",
       "<style scoped>\n",
       "    .dataframe tbody tr th:only-of-type {\n",
       "        vertical-align: middle;\n",
       "    }\n",
       "\n",
       "    .dataframe tbody tr th {\n",
       "        vertical-align: top;\n",
       "    }\n",
       "\n",
       "    .dataframe thead th {\n",
       "        text-align: right;\n",
       "    }\n",
       "</style>\n",
       "<table border=\"1\" class=\"dataframe\">\n",
       "  <thead>\n",
       "    <tr style=\"text-align: right;\">\n",
       "      <th></th>\n",
       "      <th>count</th>\n",
       "      <th>mean</th>\n",
       "      <th>std</th>\n",
       "      <th>min</th>\n",
       "      <th>25%</th>\n",
       "      <th>50%</th>\n",
       "      <th>75%</th>\n",
       "      <th>max</th>\n",
       "    </tr>\n",
       "  </thead>\n",
       "  <tbody>\n",
       "    <tr>\n",
       "      <th>gender</th>\n",
       "      <td>4000.0</td>\n",
       "      <td>0.510250</td>\n",
       "      <td>0.499957</td>\n",
       "      <td>0.000000</td>\n",
       "      <td>0.000000</td>\n",
       "      <td>1.000000</td>\n",
       "      <td>1.000000</td>\n",
       "      <td>1.000000</td>\n",
       "    </tr>\n",
       "    <tr>\n",
       "      <th>near_location</th>\n",
       "      <td>4000.0</td>\n",
       "      <td>0.845250</td>\n",
       "      <td>0.361711</td>\n",
       "      <td>0.000000</td>\n",
       "      <td>1.000000</td>\n",
       "      <td>1.000000</td>\n",
       "      <td>1.000000</td>\n",
       "      <td>1.000000</td>\n",
       "    </tr>\n",
       "    <tr>\n",
       "      <th>partner</th>\n",
       "      <td>4000.0</td>\n",
       "      <td>0.486750</td>\n",
       "      <td>0.499887</td>\n",
       "      <td>0.000000</td>\n",
       "      <td>0.000000</td>\n",
       "      <td>0.000000</td>\n",
       "      <td>1.000000</td>\n",
       "      <td>1.000000</td>\n",
       "    </tr>\n",
       "    <tr>\n",
       "      <th>promo_friends</th>\n",
       "      <td>4000.0</td>\n",
       "      <td>0.308500</td>\n",
       "      <td>0.461932</td>\n",
       "      <td>0.000000</td>\n",
       "      <td>0.000000</td>\n",
       "      <td>0.000000</td>\n",
       "      <td>1.000000</td>\n",
       "      <td>1.000000</td>\n",
       "    </tr>\n",
       "    <tr>\n",
       "      <th>phone</th>\n",
       "      <td>4000.0</td>\n",
       "      <td>0.903500</td>\n",
       "      <td>0.295313</td>\n",
       "      <td>0.000000</td>\n",
       "      <td>1.000000</td>\n",
       "      <td>1.000000</td>\n",
       "      <td>1.000000</td>\n",
       "      <td>1.000000</td>\n",
       "    </tr>\n",
       "    <tr>\n",
       "      <th>contract_period</th>\n",
       "      <td>4000.0</td>\n",
       "      <td>4.681250</td>\n",
       "      <td>4.549706</td>\n",
       "      <td>1.000000</td>\n",
       "      <td>1.000000</td>\n",
       "      <td>1.000000</td>\n",
       "      <td>6.000000</td>\n",
       "      <td>12.000000</td>\n",
       "    </tr>\n",
       "    <tr>\n",
       "      <th>group_visits</th>\n",
       "      <td>4000.0</td>\n",
       "      <td>0.412250</td>\n",
       "      <td>0.492301</td>\n",
       "      <td>0.000000</td>\n",
       "      <td>0.000000</td>\n",
       "      <td>0.000000</td>\n",
       "      <td>1.000000</td>\n",
       "      <td>1.000000</td>\n",
       "    </tr>\n",
       "    <tr>\n",
       "      <th>age</th>\n",
       "      <td>4000.0</td>\n",
       "      <td>29.184250</td>\n",
       "      <td>3.258367</td>\n",
       "      <td>18.000000</td>\n",
       "      <td>27.000000</td>\n",
       "      <td>29.000000</td>\n",
       "      <td>31.000000</td>\n",
       "      <td>41.000000</td>\n",
       "    </tr>\n",
       "    <tr>\n",
       "      <th>avg_additional_charges_total</th>\n",
       "      <td>4000.0</td>\n",
       "      <td>146.943728</td>\n",
       "      <td>96.355602</td>\n",
       "      <td>0.148205</td>\n",
       "      <td>68.868830</td>\n",
       "      <td>136.220159</td>\n",
       "      <td>210.949625</td>\n",
       "      <td>552.590740</td>\n",
       "    </tr>\n",
       "    <tr>\n",
       "      <th>month_to_end_contract</th>\n",
       "      <td>4000.0</td>\n",
       "      <td>4.322750</td>\n",
       "      <td>4.191297</td>\n",
       "      <td>1.000000</td>\n",
       "      <td>1.000000</td>\n",
       "      <td>1.000000</td>\n",
       "      <td>6.000000</td>\n",
       "      <td>12.000000</td>\n",
       "    </tr>\n",
       "    <tr>\n",
       "      <th>lifetime</th>\n",
       "      <td>4000.0</td>\n",
       "      <td>3.724750</td>\n",
       "      <td>3.749267</td>\n",
       "      <td>0.000000</td>\n",
       "      <td>1.000000</td>\n",
       "      <td>3.000000</td>\n",
       "      <td>5.000000</td>\n",
       "      <td>31.000000</td>\n",
       "    </tr>\n",
       "    <tr>\n",
       "      <th>avg_class_frequency_total</th>\n",
       "      <td>4000.0</td>\n",
       "      <td>1.879020</td>\n",
       "      <td>0.972245</td>\n",
       "      <td>0.000000</td>\n",
       "      <td>1.180875</td>\n",
       "      <td>1.832768</td>\n",
       "      <td>2.536078</td>\n",
       "      <td>6.023668</td>\n",
       "    </tr>\n",
       "    <tr>\n",
       "      <th>avg_class_frequency_current_month</th>\n",
       "      <td>4000.0</td>\n",
       "      <td>1.767052</td>\n",
       "      <td>1.052906</td>\n",
       "      <td>0.000000</td>\n",
       "      <td>0.963003</td>\n",
       "      <td>1.719574</td>\n",
       "      <td>2.510336</td>\n",
       "      <td>6.146783</td>\n",
       "    </tr>\n",
       "    <tr>\n",
       "      <th>churn</th>\n",
       "      <td>4000.0</td>\n",
       "      <td>0.265250</td>\n",
       "      <td>0.441521</td>\n",
       "      <td>0.000000</td>\n",
       "      <td>0.000000</td>\n",
       "      <td>0.000000</td>\n",
       "      <td>1.000000</td>\n",
       "      <td>1.000000</td>\n",
       "    </tr>\n",
       "  </tbody>\n",
       "</table>\n",
       "</div>"
      ],
      "text/plain": [
       "                                    count        mean        std        min        25%         50%         75%         max\n",
       "gender                             4000.0    0.510250   0.499957   0.000000   0.000000    1.000000    1.000000    1.000000\n",
       "near_location                      4000.0    0.845250   0.361711   0.000000   1.000000    1.000000    1.000000    1.000000\n",
       "partner                            4000.0    0.486750   0.499887   0.000000   0.000000    0.000000    1.000000    1.000000\n",
       "promo_friends                      4000.0    0.308500   0.461932   0.000000   0.000000    0.000000    1.000000    1.000000\n",
       "phone                              4000.0    0.903500   0.295313   0.000000   1.000000    1.000000    1.000000    1.000000\n",
       "contract_period                    4000.0    4.681250   4.549706   1.000000   1.000000    1.000000    6.000000   12.000000\n",
       "group_visits                       4000.0    0.412250   0.492301   0.000000   0.000000    0.000000    1.000000    1.000000\n",
       "age                                4000.0   29.184250   3.258367  18.000000  27.000000   29.000000   31.000000   41.000000\n",
       "avg_additional_charges_total       4000.0  146.943728  96.355602   0.148205  68.868830  136.220159  210.949625  552.590740\n",
       "month_to_end_contract              4000.0    4.322750   4.191297   1.000000   1.000000    1.000000    6.000000   12.000000\n",
       "lifetime                           4000.0    3.724750   3.749267   0.000000   1.000000    3.000000    5.000000   31.000000\n",
       "avg_class_frequency_total          4000.0    1.879020   0.972245   0.000000   1.180875    1.832768    2.536078    6.023668\n",
       "avg_class_frequency_current_month  4000.0    1.767052   1.052906   0.000000   0.963003    1.719574    2.510336    6.146783\n",
       "churn                              4000.0    0.265250   0.441521   0.000000   0.000000    0.000000    1.000000    1.000000"
      ]
     },
     "execution_count": 5,
     "metadata": {},
     "output_type": "execute_result"
    }
   ],
   "source": [
    "df.describe().T"
   ]
  },
  {
   "cell_type": "markdown",
   "metadata": {},
   "source": [
    "Общее количество клиентов 4000, по гендерному признаку примерно одинаковое количество. Основная часть клиентов проживают или работают в районе, где находится фитнес-центр и почти половина из них имеют сотрудничество с компаниями, чьи сотрудники могут получать скидки на абонемент.\n",
    "\n",
    "Использовали промо-код от знакомого при оплате первого абонемента составляет 30 %, таким образом клиенты сами приводят своих друзей, что в будущем может отразиться позитивно на доходности от услуг фитнеса, например при посещении групповых занятий, где доля посещаемости составляет 41 %.\n",
    "\n",
    "90 % клиентов дают свои мобильные телефоны, с помощью которых можно информировать о различных акциях, продлениях абонементов. Длина абонемента в основном 1 мес или 6 мес. Возраст клиентов находится в основном от 27 до 31 года, это хорошо, так как это молодое и платёжеспособное население, которое в будущем может позитивно сказаться на прибыльности фитнес центра.\n",
    "\n",
    "Суммарная выручка от других услуг фитнес-центра: кафе, спорттовары, косметический и массажный салон находятся в диапазоне от 68 до 210.\n",
    "\n",
    "Время с момента первого обращения в фитнес-центр в месяцах составляет от 1 до 5, что не очень хорошо, так как клиенты в основном новые, возможно это связано с тем, что в партнерских компаниях высокая текучка кадров и новые клиенты приходят от них.\n",
    "\n",
    "Средняя частота посещений в неделю за все время с начала действия абонемента находится в диапазоне 1 до 3, то есть клиенты не так часто посещают фитнес.\n",
    "\n",
    "Средняя частота посещений в неделю за предыдущий месяц находится в диапазоне от 1 до 3.\n",
    "\n",
    "26,5 % клиентов уходят каждый месяц."
   ]
  },
  {
   "cell_type": "markdown",
   "metadata": {},
   "source": [
    "**Проверить файл на наличие пропусков и дублей.**"
   ]
  },
  {
   "cell_type": "code",
   "execution_count": 6,
   "metadata": {},
   "outputs": [
    {
     "data": {
      "text/plain": [
       "gender                               0\n",
       "near_location                        0\n",
       "partner                              0\n",
       "promo_friends                        0\n",
       "phone                                0\n",
       "contract_period                      0\n",
       "group_visits                         0\n",
       "age                                  0\n",
       "avg_additional_charges_total         0\n",
       "month_to_end_contract                0\n",
       "lifetime                             0\n",
       "avg_class_frequency_total            0\n",
       "avg_class_frequency_current_month    0\n",
       "churn                                0\n",
       "dtype: int64"
      ]
     },
     "execution_count": 6,
     "metadata": {},
     "output_type": "execute_result"
    }
   ],
   "source": [
    "df.isna().sum() # проверил пропуски в файле"
   ]
  },
  {
   "cell_type": "code",
   "execution_count": 7,
   "metadata": {
    "scrolled": true
   },
   "outputs": [
    {
     "data": {
      "text/plain": [
       "0"
      ]
     },
     "execution_count": 7,
     "metadata": {},
     "output_type": "execute_result"
    }
   ],
   "source": [
    "df.duplicated().sum() # проверил дубли"
   ]
  },
  {
   "cell_type": "markdown",
   "metadata": {},
   "source": [
    "Пропуски и явные дублирующие данные отсутствуют\n",
    "\n",
    "**Посмотрим на средние значения признаков в двух группах — тех, кто ушел в отток и тех, кто остался**"
   ]
  },
  {
   "cell_type": "code",
   "execution_count": 8,
   "metadata": {},
   "outputs": [
    {
     "data": {
      "text/html": [
       "<div>\n",
       "<style scoped>\n",
       "    .dataframe tbody tr th:only-of-type {\n",
       "        vertical-align: middle;\n",
       "    }\n",
       "\n",
       "    .dataframe tbody tr th {\n",
       "        vertical-align: top;\n",
       "    }\n",
       "\n",
       "    .dataframe thead th {\n",
       "        text-align: right;\n",
       "    }\n",
       "</style>\n",
       "<table border=\"1\" class=\"dataframe\">\n",
       "  <thead>\n",
       "    <tr style=\"text-align: right;\">\n",
       "      <th>churn</th>\n",
       "      <th>0</th>\n",
       "      <th>1</th>\n",
       "    </tr>\n",
       "  </thead>\n",
       "  <tbody>\n",
       "    <tr>\n",
       "      <th>gender</th>\n",
       "      <td>0.510037</td>\n",
       "      <td>0.510839</td>\n",
       "    </tr>\n",
       "    <tr>\n",
       "      <th>near_location</th>\n",
       "      <td>0.873086</td>\n",
       "      <td>0.768143</td>\n",
       "    </tr>\n",
       "    <tr>\n",
       "      <th>partner</th>\n",
       "      <td>0.534195</td>\n",
       "      <td>0.355325</td>\n",
       "    </tr>\n",
       "    <tr>\n",
       "      <th>promo_friends</th>\n",
       "      <td>0.353522</td>\n",
       "      <td>0.183789</td>\n",
       "    </tr>\n",
       "    <tr>\n",
       "      <th>phone</th>\n",
       "      <td>0.903709</td>\n",
       "      <td>0.902922</td>\n",
       "    </tr>\n",
       "    <tr>\n",
       "      <th>contract_period</th>\n",
       "      <td>5.747193</td>\n",
       "      <td>1.728558</td>\n",
       "    </tr>\n",
       "    <tr>\n",
       "      <th>group_visits</th>\n",
       "      <td>0.464103</td>\n",
       "      <td>0.268615</td>\n",
       "    </tr>\n",
       "    <tr>\n",
       "      <th>age</th>\n",
       "      <td>29.976523</td>\n",
       "      <td>26.989632</td>\n",
       "    </tr>\n",
       "    <tr>\n",
       "      <th>avg_additional_charges_total</th>\n",
       "      <td>158.445715</td>\n",
       "      <td>115.082899</td>\n",
       "    </tr>\n",
       "    <tr>\n",
       "      <th>month_to_end_contract</th>\n",
       "      <td>5.283089</td>\n",
       "      <td>1.662582</td>\n",
       "    </tr>\n",
       "    <tr>\n",
       "      <th>lifetime</th>\n",
       "      <td>4.711807</td>\n",
       "      <td>0.990575</td>\n",
       "    </tr>\n",
       "    <tr>\n",
       "      <th>avg_class_frequency_total</th>\n",
       "      <td>2.024876</td>\n",
       "      <td>1.474995</td>\n",
       "    </tr>\n",
       "    <tr>\n",
       "      <th>avg_class_frequency_current_month</th>\n",
       "      <td>2.027882</td>\n",
       "      <td>1.044546</td>\n",
       "    </tr>\n",
       "  </tbody>\n",
       "</table>\n",
       "</div>"
      ],
      "text/plain": [
       "churn                                       0           1\n",
       "gender                               0.510037    0.510839\n",
       "near_location                        0.873086    0.768143\n",
       "partner                              0.534195    0.355325\n",
       "promo_friends                        0.353522    0.183789\n",
       "phone                                0.903709    0.902922\n",
       "contract_period                      5.747193    1.728558\n",
       "group_visits                         0.464103    0.268615\n",
       "age                                 29.976523   26.989632\n",
       "avg_additional_charges_total       158.445715  115.082899\n",
       "month_to_end_contract                5.283089    1.662582\n",
       "lifetime                             4.711807    0.990575\n",
       "avg_class_frequency_total            2.024876    1.474995\n",
       "avg_class_frequency_current_month    2.027882    1.044546"
      ]
     },
     "execution_count": 8,
     "metadata": {},
     "output_type": "execute_result"
    }
   ],
   "source": [
    "df.groupby('churn').agg('mean').T"
   ]
  },
  {
   "cell_type": "markdown",
   "metadata": {},
   "source": [
    "По гендерному признаку почти одинаково, уходящие, которые близко к фитнес-центру также в большом количестве (76%) уходят. По партнёрским договоренностям больше половины остаются и 35 % уходят, следовательно скидки работают и нужно продолжать развивать это направление. Те, кто пришли от приглашенных друзей уходят намного реже (18,4 %), поэтому, как вариант, можно сделать одной из точек роста приглашения друзей, так как они в общей массе остаются. Телефон оставляют почти все клиенты. Абонементы остающихся клиентов зачастую пол года, у уходящих 1-2 месяца. Уходящие клиенты редко ходят на групповые занятия, возможно это связано с низкой заинтересованностью и очень редко посещают фитнес, а именно 1 раз в неделю. Остающиеся клиенты приносят выручки  от других услуг фитнес-центра больше на 37 %, чем уходящие."
   ]
  },
  {
   "cell_type": "markdown",
   "metadata": {},
   "source": [
    "**Построю столбчатые гистограммы и распределения признаков для тех, кто ушёл и тех, кто остался**"
   ]
  },
  {
   "cell_type": "code",
   "execution_count": 9,
   "metadata": {},
   "outputs": [
    {
     "data": {
      "text/plain": [
       "churn\n",
       "0    0\n",
       "1    1\n",
       "Name: churn, dtype: int64"
      ]
     },
     "execution_count": 9,
     "metadata": {},
     "output_type": "execute_result"
    }
   ],
   "source": [
    "df.groupby('churn')['churn'].mean()"
   ]
  },
  {
   "cell_type": "code",
   "execution_count": 10,
   "metadata": {},
   "outputs": [
    {
     "data": {
      "image/png": "[encoded data removed]",
      "text/plain": [
       "<Figure size 1800x936 with 16 Axes>"
      ]
     },
     "metadata": {
      "needs_background": "light"
     },
     "output_type": "display_data"
    },
    {
     "data": {
      "image/png": "[encoded data removed]",
      "text/plain": [
       "<Figure size 1800x936 with 16 Axes>"
      ]
     },
     "metadata": {
      "needs_background": "light"
     },
     "output_type": "display_data"
    }
   ],
   "source": [
    "# верхние гистограммы относятся к тем, кто НЕ ушел\n",
    "# нижние гистограммы относятся к тем, кто ушел, начало с gender\n",
    "df.groupby('churn').hist(figsize=(25, 13));"
   ]
  },
  {
   "cell_type": "markdown",
   "metadata": {},
   "source": [
    "По гендерному признаку те, кто уходят и те, кто остаются по-прежнему в равных пропорциях. Кто остаются зачастую проживают или работают в районе, где находится фитнес-центр, но те кто уходят, у них доля тех, кто работают или проживают не в этом районе, выше.\n",
    "\n",
    "Уходящие клиенты без сотрудничества с компаниями покидают фитнес-центры больше чем те, у кого это сотрудничество есть. Таким образом, скидки партнёрские все же работают.\n",
    "\n",
    "Уходящие в основном приобретают месячные абонементы, проходит месяц - два и потом отваливаются, при этом они также особо не посещают групповые занятия, их возраст варьируется от 25 до 30 лет.\n",
    "\n",
    "Те, кто остаются приносят больше суммарной выручки для фитнес-центров, таким образом, долгосрочное взаимодействие более прибыльно.\n",
    "\n",
    "Клиенты, посещающие зал 2-3 раза в неделю чаще всего остаются надолго, нежели чем те, которые посещают редко, они скорее всего уйдут после окончания абонемента."
   ]
  },
  {
   "cell_type": "markdown",
   "metadata": {},
   "source": [
    "**Построю матрицу корреляций (взаимосвязей) с помощью тепловой карты**"
   ]
  },
  {
   "cell_type": "code",
   "execution_count": 21,
   "metadata": {},
   "outputs": [
    {
     "data": {
      "image/png": "[encoded data removed]",
      "text/plain": [
       "<Figure size 1440x504 with 2 Axes>"
      ]
     },
     "metadata": {
      "needs_background": "light"
     },
     "output_type": "display_data"
    }
   ],
   "source": [
    "correlation = df.corr()\n",
    "mask = np.tril(correlation.corr())\n",
    "plt.figure(figsize=(20,7))\n",
    "sns.heatmap(correlation, annot = True, mask=mask);"
   ]
  },
  {
   "cell_type": "markdown",
   "metadata": {},
   "source": [
    "Сильно зависят друг от друга длительность текущего действующего абонемента и срок до окончания текущего действующего абонемента. Также сильно зависят средняя частота посещений в неделю за предыдущий месяц и средняя частота посещений в неделю за все время с начала действия абонемента, чем чаще посещают, тем больше вероятность того, что клиент останется надолго.\n",
    "\n",
    "Отмечу, что партнёрские скидки с использовальзованием промо-кода от знакомого при оплате первого абонемента тоже имеют позитивную динамику, то есть те, кто получают партнёрские скидки от работы приводят с собой друзей, чтобы было \"веселее\" заниматься.\n",
    "\n",
    "И прослеживается обратная зависимость, чем меньше посещают фитнес-центр, тем больше вероятность ухода клиента, так как нет заинтересованности, тоже самое можно сказать и про возраст, чем ниже возраст, тем выше вероятность оттока клиентов, и наоборот. "
   ]
  },
  {
   "cell_type": "markdown",
   "metadata": {},
   "source": [
    "## Построение модели прогнозирования оттока клиентов"
   ]
  },
  {
   "cell_type": "markdown",
   "metadata": {},
   "source": [
    "Построю модель бинарной классификации клиентов, где **целевой признак — факт оттока клиента в следующем месяце.**\n",
    "\n",
    "Сравню модели логистической регрессии и случайного леса. Какая модель покажет себя лучше на основании метрик accuracy, precision и recall?\n",
    "\n",
    "**Сперва построю модель логистической регрессии**"
   ]
  },
  {
   "cell_type": "code",
   "execution_count": 12,
   "metadata": {},
   "outputs": [],
   "source": [
    "# исключаю целевой признак из датафрейма\n",
    "X = df.drop('churn', axis = 1)\n",
    "# добавляю целевой признак в у\n",
    "y = df['churn']"
   ]
  },
  {
   "cell_type": "code",
   "execution_count": 13,
   "metadata": {},
   "outputs": [],
   "source": [
    "# разделяем модель на обучающую и валидационную выборку в соотношении 80 обучающая выборка и 20 валидационная\n",
    "X_train, X_test, y_train, y_test = train_test_split(X, y, test_size=0.2, random_state=0)\n",
    "\n",
    "# Cтандартизируем данные\n",
    "scaler = StandardScaler()\n",
    "scaler.fit(X_train)\n",
    "x_train_st = scaler.transform(X_train)\n",
    "x_test_st = scaler.transform(X_test)"
   ]
  },
  {
   "cell_type": "code",
   "execution_count": 22,
   "metadata": {},
   "outputs": [
    {
     "name": "stdout",
     "output_type": "stream",
     "text": [
      "Метрики модели логистической регрессии\n",
      "Accuracy: 0.92\n",
      "Precision: 0.85\n",
      "Recall: 0.83\n",
      "\tF1: 0.84\n"
     ]
    }
   ],
   "source": [
    "# зададим алгоритм для нашей модели логистической регрессии\n",
    "model_logi_regression = LogisticRegression(random_state=0)\n",
    "\n",
    "# обучим модель на обучающей выборке\n",
    "model_logi_regression.fit(x_train_st, y_train)\n",
    "\n",
    "# воспользуемся уже обученной моделью, чтобы сделать прогнозы\n",
    "probabilities_regress = model_logi_regression.predict_proba(x_train_st)[:, 1]\n",
    "\n",
    "# бинарный прогноз результатом чего будет 0 и 1\n",
    "predictions_regress = model_logi_regression.predict(x_test_st)\n",
    "\n",
    "# выведите все изученные метрики для полученного прогноза\n",
    "print('Метрики модели логистической регрессии')\n",
    "print('Accuracy: {:.2f}'.format(accuracy_score(y_test, predictions_regress)))\n",
    "print('Precision: {:.2f}'.format(precision_score(y_test, predictions_regress)))\n",
    "print('Recall: {:.2f}'.format(recall_score(y_test, predictions_regress)))\n",
    "print('\\tF1: {:.2f}'.format(f1_score(y_test, predictions_regress))) "
   ]
  },
  {
   "cell_type": "markdown",
   "metadata": {},
   "source": [
    "**Проделаем тоже самое с моделью случайный лес**"
   ]
  },
  {
   "cell_type": "code",
   "execution_count": 23,
   "metadata": {},
   "outputs": [
    {
     "name": "stdout",
     "output_type": "stream",
     "text": [
      "Метрики модели случайного леса\n",
      "Accuracy: 0.92\n",
      "Precision: 0.84\n",
      "Recall: 0.81\n",
      "\tF1: 0.83\n"
     ]
    }
   ],
   "source": [
    "# создаем модель\n",
    "model_forest = RandomForestClassifier(random_state=0)\n",
    "# обучаем\n",
    "model_forest.fit(x_train_st, y_train)\n",
    "\n",
    "# воспользуемся уже обученной моделью, чтобы сделать прогнозы\n",
    "probabilities_forest = model_logi_regression.predict_proba(x_train_st)[:, 1]\n",
    "\n",
    "# бинарный прогноз результатом чего будет 0 и 1\n",
    "predictions_forest = model_forest.predict(x_test_st)\n",
    "\n",
    "# выведите все изученные метрики для полученного прогноза\n",
    "print('Метрики модели случайного леса')\n",
    "print('Accuracy: {:.2f}'.format(accuracy_score(y_test, predictions_forest)))\n",
    "print('Precision: {:.2f}'.format(precision_score(y_test, predictions_forest)))\n",
    "print('Recall: {:.2f}'.format(recall_score(y_test, predictions_forest)))\n",
    "print('\\tF1: {:.2f}'.format(f1_score(y_test, predictions_forest))) "
   ]
  },
  {
   "cell_type": "markdown",
   "metadata": {},
   "source": [
    "**Accuracy** метрики двух моделей одинаковые, так как в этой метрике чем ближе к 1, тем лучше, так как она отражает долю правильных ответов.\n",
    "\n",
    "**Precision** у логистической регрессии чуть лучше, так как он ближе к 1, то есть доля правильных ответов только среди целевого класса выше чем у случайного леса.\n",
    "\n",
    "**Recall** также выше у логистической регрессии. Здесь метрика обнаружила с помощью модели логистической регрессии больше реальных объектов.\n",
    "\n",
    "**F1** также показала себя лучше в модели логистическая регрессия.\n",
    "\n",
    "Обе модели хорошо себя проявили, но модель логистической регрессии показала себя лучше."
   ]
  },
  {
   "cell_type": "markdown",
   "metadata": {},
   "source": [
    "## Сделать кластеризацию клиентов\n",
    "\n",
    "Постройте распределения признаков для кластеров. Можно ли что-то заметить по ним?\n",
    "\n",
    "Для каждого полученного кластера посчитайте долю оттока (методом groupby()). Отличаются ли они по доле оттока? Какие кластеры склонны к оттоку, а какие — надёжны?"
   ]
  },
  {
   "cell_type": "markdown",
   "metadata": {},
   "source": [
    "**Стандартизирую данные и построю матрицу расстояний функцией linkage() на стандартизованной матрице признаков и нарисую дендрограмму, чтобы определить, на какое количество кластеров можно разделить.**"
   ]
  },
  {
   "cell_type": "code",
   "execution_count": 16,
   "metadata": {},
   "outputs": [
    {
     "data": {
      "image/png": "[encoded data removed]",
      "text/plain": [
       "<Figure size 1080x720 with 1 Axes>"
      ]
     },
     "metadata": {
      "needs_background": "light"
     },
     "output_type": "display_data"
    }
   ],
   "source": [
    "# Зададим \"стандартизатор\"\n",
    "scaler = StandardScaler()\n",
    "\n",
    "# Стандартизируем данные\n",
    "x_st = scaler.fit_transform(X)\n",
    "\n",
    "# нарисуем дендограмму\n",
    "linked = linkage(x_st, method = 'ward') \n",
    "plt.figure(figsize=(15, 10)) \n",
    "dendrogram(linked, orientation='top')\n",
    "plt.title('Иерархическое деление в фитнес-центре');"
   ]
  },
  {
   "cell_type": "markdown",
   "metadata": {},
   "source": [
    "На дендограмме появились 4 цвета, поэтому буду делить на 4 кластера.\n",
    "\n",
    "**Обучу модель кластеризации на основании алгоритма K-Means и спрогнозирую кластеры клиентов**\n",
    "\n",
    "Принял решение все же поделить на 5 кластеров"
   ]
  },
  {
   "cell_type": "code",
   "execution_count": 17,
   "metadata": {},
   "outputs": [
    {
     "data": {
      "text/html": [
       "<div>\n",
       "<style scoped>\n",
       "    .dataframe tbody tr th:only-of-type {\n",
       "        vertical-align: middle;\n",
       "    }\n",
       "\n",
       "    .dataframe tbody tr th {\n",
       "        vertical-align: top;\n",
       "    }\n",
       "\n",
       "    .dataframe thead th {\n",
       "        text-align: right;\n",
       "    }\n",
       "</style>\n",
       "<table border=\"1\" class=\"dataframe\">\n",
       "  <thead>\n",
       "    <tr style=\"text-align: right;\">\n",
       "      <th>cluster_km</th>\n",
       "      <th>cluster_1</th>\n",
       "      <th>cluster_2</th>\n",
       "      <th>cluster_3</th>\n",
       "      <th>cluster_4</th>\n",
       "      <th>cluster_5</th>\n",
       "    </tr>\n",
       "  </thead>\n",
       "  <tbody>\n",
       "    <tr>\n",
       "      <th>gender</th>\n",
       "      <td>0.50</td>\n",
       "      <td>0.52</td>\n",
       "      <td>0.50</td>\n",
       "      <td>0.49</td>\n",
       "      <td>0.56</td>\n",
       "    </tr>\n",
       "    <tr>\n",
       "      <th>near_location</th>\n",
       "      <td>0.96</td>\n",
       "      <td>0.86</td>\n",
       "      <td>0.00</td>\n",
       "      <td>1.00</td>\n",
       "      <td>0.98</td>\n",
       "    </tr>\n",
       "    <tr>\n",
       "      <th>partner</th>\n",
       "      <td>0.78</td>\n",
       "      <td>0.47</td>\n",
       "      <td>0.46</td>\n",
       "      <td>0.35</td>\n",
       "      <td>0.36</td>\n",
       "    </tr>\n",
       "    <tr>\n",
       "      <th>promo_friends</th>\n",
       "      <td>0.57</td>\n",
       "      <td>0.31</td>\n",
       "      <td>0.08</td>\n",
       "      <td>0.24</td>\n",
       "      <td>0.23</td>\n",
       "    </tr>\n",
       "    <tr>\n",
       "      <th>phone</th>\n",
       "      <td>1.00</td>\n",
       "      <td>0.00</td>\n",
       "      <td>1.00</td>\n",
       "      <td>1.00</td>\n",
       "      <td>1.00</td>\n",
       "    </tr>\n",
       "    <tr>\n",
       "      <th>contract_period</th>\n",
       "      <td>10.89</td>\n",
       "      <td>4.79</td>\n",
       "      <td>2.35</td>\n",
       "      <td>1.95</td>\n",
       "      <td>2.67</td>\n",
       "    </tr>\n",
       "    <tr>\n",
       "      <th>group_visits</th>\n",
       "      <td>0.54</td>\n",
       "      <td>0.43</td>\n",
       "      <td>0.22</td>\n",
       "      <td>0.34</td>\n",
       "      <td>0.47</td>\n",
       "    </tr>\n",
       "    <tr>\n",
       "      <th>age</th>\n",
       "      <td>29.98</td>\n",
       "      <td>29.30</td>\n",
       "      <td>28.48</td>\n",
       "      <td>28.17</td>\n",
       "      <td>30.13</td>\n",
       "    </tr>\n",
       "    <tr>\n",
       "      <th>avg_additional_charges_total</th>\n",
       "      <td>160.76</td>\n",
       "      <td>143.96</td>\n",
       "      <td>135.46</td>\n",
       "      <td>131.62</td>\n",
       "      <td>161.66</td>\n",
       "    </tr>\n",
       "    <tr>\n",
       "      <th>month_to_end_contract</th>\n",
       "      <td>9.95</td>\n",
       "      <td>4.48</td>\n",
       "      <td>2.20</td>\n",
       "      <td>1.86</td>\n",
       "      <td>2.46</td>\n",
       "    </tr>\n",
       "    <tr>\n",
       "      <th>lifetime</th>\n",
       "      <td>4.74</td>\n",
       "      <td>3.92</td>\n",
       "      <td>2.81</td>\n",
       "      <td>2.44</td>\n",
       "      <td>4.90</td>\n",
       "    </tr>\n",
       "    <tr>\n",
       "      <th>avg_class_frequency_total</th>\n",
       "      <td>1.98</td>\n",
       "      <td>1.85</td>\n",
       "      <td>1.66</td>\n",
       "      <td>1.25</td>\n",
       "      <td>2.85</td>\n",
       "    </tr>\n",
       "    <tr>\n",
       "      <th>avg_class_frequency_current_month</th>\n",
       "      <td>1.97</td>\n",
       "      <td>1.72</td>\n",
       "      <td>1.48</td>\n",
       "      <td>1.01</td>\n",
       "      <td>2.85</td>\n",
       "    </tr>\n",
       "    <tr>\n",
       "      <th>churn</th>\n",
       "      <td>0.03</td>\n",
       "      <td>0.27</td>\n",
       "      <td>0.44</td>\n",
       "      <td>0.51</td>\n",
       "      <td>0.07</td>\n",
       "    </tr>\n",
       "  </tbody>\n",
       "</table>\n",
       "</div>"
      ],
      "text/plain": [
       "cluster_km                         cluster_1  cluster_2  cluster_3  cluster_4  cluster_5\n",
       "gender                                  0.50       0.52       0.50       0.49       0.56\n",
       "near_location                           0.96       0.86       0.00       1.00       0.98\n",
       "partner                                 0.78       0.47       0.46       0.35       0.36\n",
       "promo_friends                           0.57       0.31       0.08       0.24       0.23\n",
       "phone                                   1.00       0.00       1.00       1.00       1.00\n",
       "contract_period                        10.89       4.79       2.35       1.95       2.67\n",
       "group_visits                            0.54       0.43       0.22       0.34       0.47\n",
       "age                                    29.98      29.30      28.48      28.17      30.13\n",
       "avg_additional_charges_total          160.76     143.96     135.46     131.62     161.66\n",
       "month_to_end_contract                   9.95       4.48       2.20       1.86       2.46\n",
       "lifetime                                4.74       3.92       2.81       2.44       4.90\n",
       "avg_class_frequency_total               1.98       1.85       1.66       1.25       2.85\n",
       "avg_class_frequency_current_month       1.97       1.72       1.48       1.01       2.85\n",
       "churn                                   0.03       0.27       0.44       0.51       0.07"
      ]
     },
     "execution_count": 17,
     "metadata": {},
     "output_type": "execute_result"
    }
   ],
   "source": [
    "# Зададим модель k_means с числом кластеров 5\n",
    "km = KMeans(n_clusters = 5, random_state=0)\n",
    "\n",
    "# Спрогнозируем кластеры для наблюдений\n",
    "labels = km.fit_predict(x_st)\n",
    "\n",
    "# Сохраним метки кластера в поле нашего датасета\n",
    "df['cluster_km'] = labels\n",
    "\n",
    "# Переименуем названия кластеров\n",
    "df.loc[df['cluster_km']==0, 'cluster_km'] = 'cluster_1'\n",
    "df.loc[df['cluster_km']==1, 'cluster_km'] = 'cluster_2'\n",
    "df.loc[df['cluster_km']==2, 'cluster_km'] = 'cluster_3'\n",
    "df.loc[df['cluster_km']==3, 'cluster_km'] = 'cluster_4'\n",
    "df.loc[df['cluster_km']==4, 'cluster_km'] = 'cluster_5'\n",
    "\n",
    "# Выведем средние значения признаков для кластеров\n",
    "round(df.groupby('cluster_km').mean(), 2).T"
   ]
  },
  {
   "cell_type": "code",
   "execution_count": 18,
   "metadata": {},
   "outputs": [
    {
     "data": {
      "text/html": [
       "<div>\n",
       "<style scoped>\n",
       "    .dataframe tbody tr th:only-of-type {\n",
       "        vertical-align: middle;\n",
       "    }\n",
       "\n",
       "    .dataframe tbody tr th {\n",
       "        vertical-align: top;\n",
       "    }\n",
       "\n",
       "    .dataframe thead th {\n",
       "        text-align: right;\n",
       "    }\n",
       "</style>\n",
       "<table border=\"1\" class=\"dataframe\">\n",
       "  <thead>\n",
       "    <tr style=\"text-align: right;\">\n",
       "      <th></th>\n",
       "      <th>cluster_km</th>\n",
       "      <th>churn</th>\n",
       "    </tr>\n",
       "  </thead>\n",
       "  <tbody>\n",
       "    <tr>\n",
       "      <th>3</th>\n",
       "      <td>cluster_4</td>\n",
       "      <td>0.514263</td>\n",
       "    </tr>\n",
       "    <tr>\n",
       "      <th>2</th>\n",
       "      <td>cluster_3</td>\n",
       "      <td>0.443564</td>\n",
       "    </tr>\n",
       "    <tr>\n",
       "      <th>1</th>\n",
       "      <td>cluster_2</td>\n",
       "      <td>0.267532</td>\n",
       "    </tr>\n",
       "    <tr>\n",
       "      <th>4</th>\n",
       "      <td>cluster_5</td>\n",
       "      <td>0.068019</td>\n",
       "    </tr>\n",
       "    <tr>\n",
       "      <th>0</th>\n",
       "      <td>cluster_1</td>\n",
       "      <td>0.027723</td>\n",
       "    </tr>\n",
       "  </tbody>\n",
       "</table>\n",
       "</div>"
      ],
      "text/plain": [
       "  cluster_km     churn\n",
       "3  cluster_4  0.514263\n",
       "2  cluster_3  0.443564\n",
       "1  cluster_2  0.267532\n",
       "4  cluster_5  0.068019\n",
       "0  cluster_1  0.027723"
      ]
     },
     "execution_count": 18,
     "metadata": {},
     "output_type": "execute_result"
    }
   ],
   "source": [
    "(\n",
    "    df.groupby('cluster_km')['churn'].mean()\n",
    "    .reset_index()\n",
    "    .sort_values(by='churn', ascending=False)\n",
    ") # отсортирую кластеры по убыванию"
   ]
  },
  {
   "cell_type": "markdown",
   "metadata": {},
   "source": [
    "Кластеры 4, 3 и 2 имеют наибольшую долю оттока клиентов. Самое наименьшее количество оттока клиентов происходит в кластере 1 и кластере 5."
   ]
  },
  {
   "cell_type": "markdown",
   "metadata": {},
   "source": [
    "Характеристики приблизительно схожи с теми, которые описывал ранее.\n",
    "\n",
    "Для более наглядного разделения требуется построить распределение для каждого признака по кластерам."
   ]
  },
  {
   "cell_type": "markdown",
   "metadata": {},
   "source": [
    "**Анализ распределения признаков для кластеров**"
   ]
  },
  {
   "cell_type": "code",
   "execution_count": 19,
   "metadata": {},
   "outputs": [
    {
     "data": {
      "image/png": "[encoded data removed]",
      "text/plain": [
       "<Figure size 432x288 with 1 Axes>"
      ]
     },
     "metadata": {
      "needs_background": "light"
     },
     "output_type": "display_data"
    },
    {
     "data": {
      "image/png": "[encoded data removed]",
      "text/plain": [
       "<Figure size 432x288 with 1 Axes>"
      ]
     },
     "metadata": {
      "needs_background": "light"
     },
     "output_type": "display_data"
    },
    {
     "data": {
      "image/png": "[encoded data removed]",
      "text/plain": [
       "<Figure size 432x288 with 1 Axes>"
      ]
     },
     "metadata": {
      "needs_background": "light"
     },
     "output_type": "display_data"
    },
    {
     "data": {
      "image/png": "[encoded data removed]",
      "text/plain": [
       "<Figure size 432x288 with 1 Axes>"
      ]
     },
     "metadata": {
      "needs_background": "light"
     },
     "output_type": "display_data"
    },
    {
     "data": {
      "image/png": "[encoded data removed]",
      "text/plain": [
       "<Figure size 432x288 with 1 Axes>"
      ]
     },
     "metadata": {
      "needs_background": "light"
     },
     "output_type": "display_data"
    },
    {
     "data": {
      "image/png": "[encoded data removed]",
      "text/plain": [
       "<Figure size 432x288 with 1 Axes>"
      ]
     },
     "metadata": {
      "needs_background": "light"
     },
     "output_type": "display_data"
    },
    {
     "data": {
      "image/png": "[encoded data removed]",
      "text/plain": [
       "<Figure size 432x288 with 1 Axes>"
      ]
     },
     "metadata": {
      "needs_background": "light"
     },
     "output_type": "display_data"
    },
    {
     "data": {
      "image/png": "[encoded data removed]",
      "text/plain": [
       "<Figure size 432x288 with 1 Axes>"
      ]
     },
     "metadata": {
      "needs_background": "light"
     },
     "output_type": "display_data"
    }
   ],
   "source": [
    "# Построим график для логических и дискретных величин\n",
    "log_discr_values = ['gender', 'near_location', 'partner', 'promo_friends', 'phone', 'contract_period', 'group_visits', 'churn']\n",
    "fig, ax = plt.subplots()\n",
    "for column in log_discr_values:\n",
    "    plt.title(\"Распределение признака \"+column)\n",
    "    sns.countplot(data=df, x=column, hue='cluster_km')\n",
    "    plt.xlabel(column)\n",
    "    plt.ylabel(\"количество\")\n",
    "    plt.legend(bbox_to_anchor=(1.3, 1))\n",
    "    plt.show()"
   ]
  },
  {
   "cell_type": "code",
   "execution_count": 20,
   "metadata": {
    "scrolled": true
   },
   "outputs": [
    {
     "data": {
      "image/png": "[encoded data removed]",
      "text/plain": [
       "<Figure size 432x288 with 1 Axes>"
      ]
     },
     "metadata": {
      "needs_background": "light"
     },
     "output_type": "display_data"
    },
    {
     "data": {
      "image/png": "[encoded data removed]",
      "text/plain": [
       "<Figure size 432x288 with 1 Axes>"
      ]
     },
     "metadata": {
      "needs_background": "light"
     },
     "output_type": "display_data"
    },
    {
     "data": {
      "image/png": "[encoded data removed]",
      "text/plain": [
       "<Figure size 432x288 with 1 Axes>"
      ]
     },
     "metadata": {
      "needs_background": "light"
     },
     "output_type": "display_data"
    },
    {
     "data": {
      "image/png": "[encoded data removed]",
      "text/plain": [
       "<Figure size 432x288 with 1 Axes>"
      ]
     },
     "metadata": {
      "needs_background": "light"
     },
     "output_type": "display_data"
    }
   ],
   "source": [
    "# Построим график для непрерывных величин\n",
    "cont_values = ['age', 'lifetime', 'avg_class_frequency_current_month', 'avg_additional_charges_total']\n",
    "fig, ax = plt.subplots()\n",
    "for column in cont_values:\n",
    "    plt.title(\"Распределение признака \"+column)\n",
    "    sns.boxplot(x='cluster_km', y=column, data=df)\n",
    "    plt.xlabel('кластер')\n",
    "    plt.ylabel('значение '+column)\n",
    "    plt.show()"
   ]
  },
  {
   "cell_type": "markdown",
   "metadata": {},
   "source": [
    "Характеристики все схожи с предыдущими выводами, но с определенными особенностями по кластерам. "
   ]
  },
  {
   "cell_type": "markdown",
   "metadata": {},
   "source": [
    "## Выводы и рекомендации по работе с клиентами"
   ]
  },
  {
   "cell_type": "markdown",
   "metadata": {},
   "source": [
    "Импортировал библиотеки, открыл файл, посмотрел данные, привел все в нижний регистр, поработал с типами данных.\n",
    "\n",
    "\n",
    "Ознакомился с данными и сделал следующие выводы\n",
    "\n",
    "Общее количество клиентов 4000, по гендерному признаку примерно одинаковое количество. Основная часть клиентов проживают или работают в районе, где находится фитнес-центр и почти половина из них имеют сотрудничество с компаниями, чьи сотрудники могут получать скидки на абонемент.\n",
    "\n",
    "Использовали промо-код от знакомого при оплате первого абонемента составляет 30 %, таким образом клиенты сами приводят своих друзей, что в будущем может отразиться позитивно на доходности от услуг фитнеса, например при посещении групповых занятий, где доля посещаемости составляет 41 %.\n",
    "\n",
    "90 % клиентов дают свои мобильные телефоны, с помощью которых можно информировать о различных акциях, продлениях абонементов. Длина абонемента в основном 1 мес или 6 мес. Возраст клиентов находится в основном от 27 до 31 года, это хорошо, так как это молодое и платёжеспособное население, которое в будущем может позитивно сказаться на прибыльности фитнес центра.\n",
    "\n",
    "Суммарная выручка от других услуг фитнес-центра: кафе, спорттовары, косметический и массажный салон находятся в диапазоне от 68 до 210.\n",
    "\n",
    "Время с момента первого обращения в фитнес-центр в месяцах составляет от 1 до 5, что не очень хорошо, так как клиенты в основном новые, возможно это связано с тем, что в партнерских компаниях высокая текучка кадров и новые клиенты приходят от них.\n",
    "\n",
    "Средняя частота посещений в неделю за все время с начала действия абонемента находится в диапазоне 1 до 3, то есть клиенты не так часто посещают фитнес.\n",
    "\n",
    "Средняя частота посещений в неделю за предыдущий месяц находится в диапазоне от 1 до 3.\n",
    "\n",
    "26,5 % клиентов уходят каждый месяц.\n",
    "\n",
    "Пропуски и явные дублирующие данные отсутствуют\n",
    "\n",
    "По гендерному признаку почти одинаково, уходящие, которые близко к фитнес-центру также в большом количестве (76%) уходят. По партнёрским договоренностям больше половины остаются и 35 % уходят, следовательно скидки работают и нужно продолжать развивать это направление. Те, кто пришли от приглашенных друзей уходят намного реже (18,4 %), поэтому, как вариант, можно сделать одной из точек роста приглашения друзей, так как они в общей массе остаются. Телефон оставляют почти все клиенты. Абонементы остающихся клиентов зачастую пол года, у уходящих 1-2 месяца. Уходящие клиенты редко ходят на групповые занятия, возможно это связано с низкой заинтересованностью и очень редко посещают фитнес, а именно 1 раз в неделю. Остающиеся клиенты приносят выручки  от других услуг фитнес-центра больше на 37 %, чем уходящие.\n",
    "\n",
    "Уходящие клиенты без сотрудничества с компаниями покидают фитнес-центры больше чем те, у кого это сотрудничество есть. Таким образом, скидки партнёрские все же работают.\n",
    "\n",
    "Уходящие в основном приобретают месячные абонементы, проходит месяц - два и потом отваливаются, при этом они также особо не посещают групповые занятия, их возраст варьируется от 25 до 30 лет.\n",
    "\n",
    "Те, кто остаются приносят больше суммарной выручки для фитнес-центров, таким образом, долгосрочное взаимодействие более прибыльно.\n",
    "\n",
    "Клиенты, посещающие зал 2-3 раза в неделю чаще всего остаются надолго, нежели чем те, которые посещают редко, они скорее всего уйдут после окончания абонемента.\n",
    "\n",
    "Сильно зависят друг от друга длительность текущего действующего абонемента и срок до окончания текущего действующего абонемента. Также сильно зависят средняя частота посещений в неделю за предыдущий месяц и средняя частота посещений в неделю за все время с начала действия абонемента, чем чаще посещают, тем больше вероятность того, что клиент останется надолго.\n",
    "\n",
    "Отмечу, что партнёрские скидки с использовальзованием промо-кода от знакомого при оплате первого абонемента тоже имеют позитивную динамику, то есть те, кто получают партнёрские скидки от работы приводят с собой друзей, чтобы было \"веселее\" заниматься.\n",
    "\n",
    "И прослеживается обратная зависимость, чем меньше посещают фитнес-центр, тем больше вероятность ухода клиента, так как нет заинтересованности, тоже самое можно сказать и про возраст, чем ниже возраст, тем выше вероятность оттока клиентов, и наоборот.\n",
    "\n",
    "**Accuracy** метрики двух моделей одинаковые, так как в этой метрике чем ближе к 1, тем лучше, так как она отражает долю правильных ответов.\n",
    "\n",
    "**Precision** у логистической регрессии чуть лучше, так как он ближе к 1, то есть доля правильных ответов только среди целевого класса выше чем у случайного леса.\n",
    "\n",
    "**Recall** также выше у логистической регрессии. Здесь метрика обнаружила с помощью модели логистической регрессии больше реальных объектов.\n",
    "\n",
    "Обе модели хорошо себя проявили, но модель логистической регрессии показала себя лучше.\n",
    "\n",
    "Принял решение все же поделить на 5 кластеров. \n",
    "\n",
    "Кластеры 4, 3 и 2 имеют наибольшую долю оттока клиентов. Самое наименьшее количество оттока клиентов происходит в кластере 1 и кластере 5."
   ]
  },
  {
   "cell_type": "markdown",
   "metadata": {},
   "source": [
    "**РЕКОМЕНДАЦИИ**\n",
    "- продолжать развивать партнёрские программы с различными работодателями\n",
    "- в продолжение первой рекомендации стимулировать привлечения друзей клиентам\n",
    "- развивать долгосрочные отношения с клиентами, так как они приносят много выручки от других услуг фитнес-центра: кафе, спорттовары, косметический и массажный салон\n",
    "- обращать внимание на тех клиентов, которые посещают групповые занятия, они в большинстве своём имеют наименьший отток\n",
    "- стараться продавать длинные абонементы"
   ]
  }
 ],
 "metadata": {
  "ExecuteTimeLog": [
   {
    "duration": 1908,
    "start_time": "2023-06-10T11:00:42.896Z"
   },
   {
    "duration": 154,
    "start_time": "2023-06-10T11:00:57.391Z"
   },
   {
    "duration": 47,
    "start_time": "2023-06-10T11:01:06.983Z"
   },
   {
    "duration": 3,
    "start_time": "2023-06-10T11:04:58.136Z"
   },
   {
    "duration": 13,
    "start_time": "2023-06-10T11:05:05.421Z"
   },
   {
    "duration": 14,
    "start_time": "2023-06-10T11:05:15.081Z"
   },
   {
    "duration": 11,
    "start_time": "2023-06-10T11:34:29.149Z"
   },
   {
    "duration": 46,
    "start_time": "2023-06-10T11:34:36.331Z"
   },
   {
    "duration": 1331,
    "start_time": "2023-06-10T11:41:36.269Z"
   },
   {
    "duration": 1212,
    "start_time": "2023-06-10T11:41:40.074Z"
   },
   {
    "duration": 11,
    "start_time": "2023-06-10T11:41:54.536Z"
   },
   {
    "duration": 5,
    "start_time": "2023-06-10T11:41:59.336Z"
   },
   {
    "duration": 12,
    "start_time": "2023-06-10T11:42:09.152Z"
   },
   {
    "duration": 16,
    "start_time": "2023-06-10T11:42:33.823Z"
   },
   {
    "duration": 11,
    "start_time": "2023-06-10T11:42:40.715Z"
   },
   {
    "duration": 19,
    "start_time": "2023-06-10T11:45:20.461Z"
   },
   {
    "duration": 13,
    "start_time": "2023-06-10T11:45:24.547Z"
   },
   {
    "duration": 7,
    "start_time": "2023-06-10T11:46:39.517Z"
   },
   {
    "duration": 8,
    "start_time": "2023-06-10T11:46:51.804Z"
   },
   {
    "duration": 64,
    "start_time": "2023-06-10T11:51:50.247Z"
   },
   {
    "duration": 8,
    "start_time": "2023-06-10T11:55:33.602Z"
   },
   {
    "duration": 76,
    "start_time": "2023-06-10T11:55:47.429Z"
   },
   {
    "duration": 9,
    "start_time": "2023-06-10T11:55:52.351Z"
   },
   {
    "duration": 11,
    "start_time": "2023-06-10T11:56:16.376Z"
   },
   {
    "duration": 93,
    "start_time": "2023-06-10T11:57:01.945Z"
   },
   {
    "duration": 11,
    "start_time": "2023-06-10T11:57:05.139Z"
   },
   {
    "duration": 5,
    "start_time": "2023-06-10T11:57:13.528Z"
   },
   {
    "duration": 7,
    "start_time": "2023-06-10T11:57:25.579Z"
   },
   {
    "duration": 19,
    "start_time": "2023-06-10T12:03:26.662Z"
   },
   {
    "duration": 93,
    "start_time": "2023-06-10T12:05:20.960Z"
   },
   {
    "duration": 48,
    "start_time": "2023-06-10T12:05:23.792Z"
   },
   {
    "duration": 15,
    "start_time": "2023-06-10T12:06:48.253Z"
   },
   {
    "duration": 11,
    "start_time": "2023-06-10T12:06:54.499Z"
   },
   {
    "duration": 2333,
    "start_time": "2023-06-10T12:48:33.681Z"
   },
   {
    "duration": 957,
    "start_time": "2023-06-10T12:48:52.532Z"
   },
   {
    "duration": 2353,
    "start_time": "2023-06-10T12:49:06.581Z"
   },
   {
    "duration": 2419,
    "start_time": "2023-06-10T12:49:09.970Z"
   },
   {
    "duration": 2741,
    "start_time": "2023-06-10T12:49:18.073Z"
   },
   {
    "duration": 2669,
    "start_time": "2023-06-10T12:49:25.904Z"
   },
   {
    "duration": 2796,
    "start_time": "2023-06-10T12:51:43.919Z"
   },
   {
    "duration": 3156,
    "start_time": "2023-06-10T12:51:50.473Z"
   },
   {
    "duration": 2190,
    "start_time": "2023-06-10T12:51:58.757Z"
   },
   {
    "duration": 3185,
    "start_time": "2023-06-10T12:52:05.424Z"
   },
   {
    "duration": 3498,
    "start_time": "2023-06-10T12:52:08.962Z"
   },
   {
    "duration": 3954,
    "start_time": "2023-06-10T12:52:18.757Z"
   },
   {
    "duration": 6,
    "start_time": "2023-06-10T12:52:42.089Z"
   },
   {
    "duration": 19,
    "start_time": "2023-06-10T12:52:54.949Z"
   },
   {
    "duration": 7,
    "start_time": "2023-06-10T12:53:21.054Z"
   },
   {
    "duration": 21,
    "start_time": "2023-06-10T12:56:36.803Z"
   },
   {
    "duration": 29,
    "start_time": "2023-06-10T12:56:40.954Z"
   },
   {
    "duration": 23,
    "start_time": "2023-06-10T12:56:46.180Z"
   },
   {
    "duration": 6,
    "start_time": "2023-06-10T12:57:02.569Z"
   },
   {
    "duration": 538,
    "start_time": "2023-06-10T12:57:13.645Z"
   },
   {
    "duration": 507,
    "start_time": "2023-06-10T12:57:17.841Z"
   },
   {
    "duration": 18,
    "start_time": "2023-06-10T12:57:53.759Z"
   },
   {
    "duration": 355,
    "start_time": "2023-06-10T12:58:00.635Z"
   },
   {
    "duration": 393,
    "start_time": "2023-06-10T12:58:10.395Z"
   },
   {
    "duration": 1396,
    "start_time": "2023-06-10T12:59:01.457Z"
   },
   {
    "duration": 13,
    "start_time": "2023-06-10T12:59:18.329Z"
   },
   {
    "duration": 1443,
    "start_time": "2023-06-10T12:59:37.366Z"
   },
   {
    "duration": 1446,
    "start_time": "2023-06-10T12:59:47.357Z"
   },
   {
    "duration": 1797,
    "start_time": "2023-06-10T13:00:43.268Z"
   },
   {
    "duration": 16,
    "start_time": "2023-06-10T13:04:16.110Z"
   },
   {
    "duration": 17,
    "start_time": "2023-06-10T13:04:30.766Z"
   },
   {
    "duration": 1262,
    "start_time": "2023-06-10T13:04:35.565Z"
   },
   {
    "duration": 977,
    "start_time": "2023-06-10T13:05:49.333Z"
   },
   {
    "duration": 943,
    "start_time": "2023-06-10T13:09:53.268Z"
   },
   {
    "duration": 1008,
    "start_time": "2023-06-10T13:16:23.294Z"
   },
   {
    "duration": 3,
    "start_time": "2023-06-10T13:17:20.638Z"
   },
   {
    "duration": 1576,
    "start_time": "2023-06-10T13:17:30.052Z"
   },
   {
    "duration": 49,
    "start_time": "2023-06-10T13:17:31.630Z"
   },
   {
    "duration": 17,
    "start_time": "2023-06-10T13:17:31.682Z"
   },
   {
    "duration": 18,
    "start_time": "2023-06-10T13:17:31.702Z"
   },
   {
    "duration": 65,
    "start_time": "2023-06-10T13:17:31.722Z"
   },
   {
    "duration": 8,
    "start_time": "2023-06-10T13:17:31.789Z"
   },
   {
    "duration": 16,
    "start_time": "2023-06-10T13:17:31.799Z"
   },
   {
    "duration": 13,
    "start_time": "2023-06-10T13:17:31.817Z"
   },
   {
    "duration": 19,
    "start_time": "2023-06-10T13:17:31.832Z"
   },
   {
    "duration": 3483,
    "start_time": "2023-06-10T13:17:31.853Z"
   },
   {
    "duration": 1172,
    "start_time": "2023-06-10T13:17:35.337Z"
   },
   {
    "duration": 1497,
    "start_time": "2023-06-10T15:51:21.551Z"
   },
   {
    "duration": 82,
    "start_time": "2023-06-10T15:51:23.050Z"
   },
   {
    "duration": 11,
    "start_time": "2023-06-10T15:51:23.134Z"
   },
   {
    "duration": 6,
    "start_time": "2023-06-10T15:51:23.146Z"
   },
   {
    "duration": 37,
    "start_time": "2023-06-10T15:51:23.153Z"
   },
   {
    "duration": 4,
    "start_time": "2023-06-10T15:51:23.192Z"
   },
   {
    "duration": 19,
    "start_time": "2023-06-10T15:51:23.197Z"
   },
   {
    "duration": 9,
    "start_time": "2023-06-10T15:51:23.217Z"
   },
   {
    "duration": 5,
    "start_time": "2023-06-10T15:51:23.227Z"
   },
   {
    "duration": 2785,
    "start_time": "2023-06-10T15:51:23.233Z"
   },
   {
    "duration": 983,
    "start_time": "2023-06-10T15:51:26.020Z"
   },
   {
    "duration": 4,
    "start_time": "2023-06-10T15:56:33.403Z"
   },
   {
    "duration": 4,
    "start_time": "2023-06-10T15:57:48.938Z"
   },
   {
    "duration": 16,
    "start_time": "2023-06-10T15:57:58.834Z"
   },
   {
    "duration": 5,
    "start_time": "2023-06-10T15:58:18.683Z"
   },
   {
    "duration": 2,
    "start_time": "2023-06-10T15:59:27.330Z"
   },
   {
    "duration": 3,
    "start_time": "2023-06-10T15:59:51.782Z"
   },
   {
    "duration": 37,
    "start_time": "2023-06-10T15:59:51.787Z"
   },
   {
    "duration": 5,
    "start_time": "2023-06-10T15:59:51.826Z"
   },
   {
    "duration": 2,
    "start_time": "2023-06-10T16:00:10.955Z"
   },
   {
    "duration": 369,
    "start_time": "2023-06-10T16:01:51.254Z"
   },
   {
    "duration": 2,
    "start_time": "2023-06-10T16:02:13.777Z"
   },
   {
    "duration": 346,
    "start_time": "2023-06-10T16:02:16.076Z"
   },
   {
    "duration": 346,
    "start_time": "2023-06-10T16:02:26.378Z"
   },
   {
    "duration": 10,
    "start_time": "2023-06-10T16:03:44.072Z"
   },
   {
    "duration": 9,
    "start_time": "2023-06-10T16:04:49.922Z"
   },
   {
    "duration": 9,
    "start_time": "2023-06-10T16:04:56.770Z"
   },
   {
    "duration": 13,
    "start_time": "2023-06-10T16:05:30.976Z"
   },
   {
    "duration": 9,
    "start_time": "2023-06-10T16:08:14.396Z"
   },
   {
    "duration": 115,
    "start_time": "2023-06-10T16:08:37.359Z"
   },
   {
    "duration": 13,
    "start_time": "2023-06-10T16:08:49.094Z"
   },
   {
    "duration": 10,
    "start_time": "2023-06-10T16:09:07.249Z"
   },
   {
    "duration": 6,
    "start_time": "2023-06-10T16:09:17.004Z"
   },
   {
    "duration": 14,
    "start_time": "2023-06-10T16:10:54.848Z"
   },
   {
    "duration": 375,
    "start_time": "2023-06-10T16:11:21.776Z"
   },
   {
    "duration": 520,
    "start_time": "2023-06-10T16:12:06.000Z"
   },
   {
    "duration": 704,
    "start_time": "2023-06-10T16:14:19.912Z"
   },
   {
    "duration": 892,
    "start_time": "2023-06-10T17:01:32.781Z"
   },
   {
    "duration": 922,
    "start_time": "2023-06-10T17:01:58.290Z"
   },
   {
    "duration": 19,
    "start_time": "2023-06-10T17:02:01.204Z"
   },
   {
    "duration": 831,
    "start_time": "2023-06-10T17:02:04.240Z"
   },
   {
    "duration": 18,
    "start_time": "2023-06-10T17:02:11.594Z"
   },
   {
    "duration": 17,
    "start_time": "2023-06-10T17:02:16.386Z"
   },
   {
    "duration": 898,
    "start_time": "2023-06-10T17:02:53.977Z"
   },
   {
    "duration": 13,
    "start_time": "2023-06-10T17:20:41.891Z"
   },
   {
    "duration": 21,
    "start_time": "2023-06-10T17:20:55.907Z"
   },
   {
    "duration": 13,
    "start_time": "2023-06-10T17:21:02.089Z"
   },
   {
    "duration": 98,
    "start_time": "2023-06-10T17:22:10.427Z"
   },
   {
    "duration": 468,
    "start_time": "2023-06-10T17:22:12.859Z"
   },
   {
    "duration": 84,
    "start_time": "2023-06-10T17:22:17.037Z"
   },
   {
    "duration": 409,
    "start_time": "2023-06-10T17:22:19.213Z"
   },
   {
    "duration": 53,
    "start_time": "2023-06-10T17:25:16.373Z"
   },
   {
    "duration": 349,
    "start_time": "2023-06-10T17:25:40.597Z"
   },
   {
    "duration": 319,
    "start_time": "2023-06-10T17:25:53.706Z"
   },
   {
    "duration": 405,
    "start_time": "2023-06-10T17:25:56.234Z"
   },
   {
    "duration": 1901,
    "start_time": "2023-06-11T06:25:56.172Z"
   },
   {
    "duration": 155,
    "start_time": "2023-06-11T06:25:58.075Z"
   },
   {
    "duration": 14,
    "start_time": "2023-06-11T06:25:58.232Z"
   },
   {
    "duration": 3,
    "start_time": "2023-06-11T06:25:58.248Z"
   },
   {
    "duration": 59,
    "start_time": "2023-06-11T06:25:58.253Z"
   },
   {
    "duration": 7,
    "start_time": "2023-06-11T06:25:58.314Z"
   },
   {
    "duration": 14,
    "start_time": "2023-06-11T06:25:58.322Z"
   },
   {
    "duration": 24,
    "start_time": "2023-06-11T06:25:58.337Z"
   },
   {
    "duration": 12,
    "start_time": "2023-06-11T06:25:58.365Z"
   },
   {
    "duration": 4402,
    "start_time": "2023-06-11T06:25:58.380Z"
   },
   {
    "duration": 1045,
    "start_time": "2023-06-11T06:26:02.784Z"
   },
   {
    "duration": 4,
    "start_time": "2023-06-11T06:26:03.831Z"
   },
   {
    "duration": 32,
    "start_time": "2023-06-11T06:26:03.837Z"
   },
   {
    "duration": 304,
    "start_time": "2023-06-11T06:26:03.872Z"
   },
   {
    "duration": 585,
    "start_time": "2023-06-11T06:26:04.182Z"
   },
   {
    "duration": 158,
    "start_time": "2023-06-11T07:09:58.400Z"
   },
   {
    "duration": 504,
    "start_time": "2023-06-11T07:10:10.859Z"
   },
   {
    "duration": 3,
    "start_time": "2023-06-11T07:12:46.766Z"
   },
   {
    "duration": 111,
    "start_time": "2023-06-11T07:13:08.174Z"
   },
   {
    "duration": 9,
    "start_time": "2023-06-11T07:13:14.766Z"
   },
   {
    "duration": 14,
    "start_time": "2023-06-11T07:13:55.255Z"
   },
   {
    "duration": 11,
    "start_time": "2023-06-11T07:17:33.167Z"
   },
   {
    "duration": 655,
    "start_time": "2023-06-11T07:18:19.787Z"
   },
   {
    "duration": 1640,
    "start_time": "2023-06-11T07:20:34.379Z"
   },
   {
    "duration": 57,
    "start_time": "2023-06-11T07:20:36.022Z"
   },
   {
    "duration": 14,
    "start_time": "2023-06-11T07:20:36.081Z"
   },
   {
    "duration": 16,
    "start_time": "2023-06-11T07:20:36.096Z"
   },
   {
    "duration": 87,
    "start_time": "2023-06-11T07:20:36.115Z"
   },
   {
    "duration": 7,
    "start_time": "2023-06-11T07:20:36.204Z"
   },
   {
    "duration": 44,
    "start_time": "2023-06-11T07:20:36.213Z"
   },
   {
    "duration": 43,
    "start_time": "2023-06-11T07:20:36.260Z"
   },
   {
    "duration": 15,
    "start_time": "2023-06-11T07:20:36.305Z"
   },
   {
    "duration": 4057,
    "start_time": "2023-06-11T07:20:36.322Z"
   },
   {
    "duration": 1256,
    "start_time": "2023-06-11T07:20:40.381Z"
   },
   {
    "duration": 4,
    "start_time": "2023-06-11T07:20:41.639Z"
   },
   {
    "duration": 22,
    "start_time": "2023-06-11T07:20:41.657Z"
   },
   {
    "duration": 184,
    "start_time": "2023-06-11T07:20:41.681Z"
   },
   {
    "duration": 616,
    "start_time": "2023-06-11T07:20:41.871Z"
   },
   {
    "duration": 119693,
    "start_time": "2023-06-11T07:20:42.490Z"
   },
   {
    "duration": 117511,
    "start_time": "2023-06-11T07:26:05.800Z"
   },
   {
    "duration": 122359,
    "start_time": "2023-06-11T07:32:58.206Z"
   },
   {
    "duration": 100038,
    "start_time": "2023-06-11T07:38:50.441Z"
   },
   {
    "duration": 1050,
    "start_time": "2023-06-11T07:43:53.149Z"
   },
   {
    "duration": 1169,
    "start_time": "2023-06-11T07:44:29.113Z"
   },
   {
    "duration": 1016,
    "start_time": "2023-06-11T07:45:18.264Z"
   },
   {
    "duration": 921,
    "start_time": "2023-06-11T07:46:42.446Z"
   },
   {
    "duration": 12,
    "start_time": "2023-06-11T07:49:25.063Z"
   },
   {
    "duration": 8,
    "start_time": "2023-06-11T07:49:32.274Z"
   },
   {
    "duration": 94760,
    "start_time": "2023-06-11T07:49:52.647Z"
   },
   {
    "duration": 1308,
    "start_time": "2023-06-11T08:16:37.164Z"
   },
   {
    "duration": 1332,
    "start_time": "2023-06-11T08:31:02.658Z"
   },
   {
    "duration": 1163,
    "start_time": "2023-06-11T08:31:19.995Z"
   },
   {
    "duration": 23,
    "start_time": "2023-06-11T08:31:23.010Z"
   },
   {
    "duration": 1179,
    "start_time": "2023-06-11T08:31:34.880Z"
   },
   {
    "duration": 1174,
    "start_time": "2023-06-11T08:31:43.694Z"
   },
   {
    "duration": 1105,
    "start_time": "2023-06-11T08:32:12.988Z"
   },
   {
    "duration": 1514,
    "start_time": "2023-06-11T08:32:35.373Z"
   },
   {
    "duration": 1300,
    "start_time": "2023-06-11T08:32:49.880Z"
   },
   {
    "duration": 1087,
    "start_time": "2023-06-11T08:33:53.584Z"
   },
   {
    "duration": 2353,
    "start_time": "2023-06-11T18:06:22.924Z"
   },
   {
    "duration": 222,
    "start_time": "2023-06-11T18:06:25.281Z"
   },
   {
    "duration": 22,
    "start_time": "2023-06-11T18:06:25.505Z"
   },
   {
    "duration": 5,
    "start_time": "2023-06-11T18:06:25.530Z"
   },
   {
    "duration": 102,
    "start_time": "2023-06-11T18:06:25.539Z"
   },
   {
    "duration": 12,
    "start_time": "2023-06-11T18:06:25.647Z"
   },
   {
    "duration": 13,
    "start_time": "2023-06-11T18:06:25.663Z"
   },
   {
    "duration": 18,
    "start_time": "2023-06-11T18:06:25.679Z"
   },
   {
    "duration": 9,
    "start_time": "2023-06-11T18:06:25.699Z"
   },
   {
    "duration": 5250,
    "start_time": "2023-06-11T18:06:25.727Z"
   },
   {
    "duration": 1789,
    "start_time": "2023-06-11T18:06:30.980Z"
   },
   {
    "duration": 6,
    "start_time": "2023-06-11T18:06:32.778Z"
   },
   {
    "duration": 29,
    "start_time": "2023-06-11T18:06:32.787Z"
   },
   {
    "duration": 626,
    "start_time": "2023-06-11T18:06:32.820Z"
   },
   {
    "duration": 688,
    "start_time": "2023-06-11T18:06:33.448Z"
   },
   {
    "duration": 148,
    "start_time": "2023-06-11T18:06:34.138Z"
   },
   {
    "duration": 0,
    "start_time": "2023-06-11T18:06:34.288Z"
   },
   {
    "duration": 165659,
    "start_time": "2023-06-11T18:07:10.382Z"
   },
   {
    "duration": 1495,
    "start_time": "2023-06-11T18:11:46.667Z"
   },
   {
    "duration": 1462,
    "start_time": "2023-06-11T18:23:27.398Z"
   },
   {
    "duration": 2111,
    "start_time": "2023-06-11T18:30:52.900Z"
   },
   {
    "duration": 1404,
    "start_time": "2023-06-11T18:31:04.878Z"
   },
   {
    "duration": 20,
    "start_time": "2023-06-11T18:32:42.333Z"
   },
   {
    "duration": 1045,
    "start_time": "2023-06-11T18:32:47.919Z"
   },
   {
    "duration": 12,
    "start_time": "2023-06-11T18:35:02.643Z"
   },
   {
    "duration": 11,
    "start_time": "2023-06-11T18:35:15.142Z"
   },
   {
    "duration": 11,
    "start_time": "2023-06-11T18:35:23.186Z"
   },
   {
    "duration": 20,
    "start_time": "2023-06-11T18:35:38.312Z"
   },
   {
    "duration": 18,
    "start_time": "2023-06-11T18:35:54.514Z"
   },
   {
    "duration": 1265,
    "start_time": "2023-06-11T18:57:15.964Z"
   },
   {
    "duration": 1020,
    "start_time": "2023-06-11T18:57:26.627Z"
   },
   {
    "duration": 1264,
    "start_time": "2023-06-11T18:57:38.262Z"
   },
   {
    "duration": 1039,
    "start_time": "2023-06-11T18:57:50.015Z"
   },
   {
    "duration": 18,
    "start_time": "2023-06-11T18:58:02.976Z"
   },
   {
    "duration": 17,
    "start_time": "2023-06-11T18:58:16.966Z"
   },
   {
    "duration": 2165,
    "start_time": "2023-06-12T07:21:15.510Z"
   },
   {
    "duration": 100,
    "start_time": "2023-06-12T07:21:17.678Z"
   },
   {
    "duration": 14,
    "start_time": "2023-06-12T07:21:17.780Z"
   },
   {
    "duration": 19,
    "start_time": "2023-06-12T07:21:17.796Z"
   },
   {
    "duration": 62,
    "start_time": "2023-06-12T07:21:17.818Z"
   },
   {
    "duration": 7,
    "start_time": "2023-06-12T07:21:17.882Z"
   },
   {
    "duration": 29,
    "start_time": "2023-06-12T07:21:17.890Z"
   },
   {
    "duration": 14,
    "start_time": "2023-06-12T07:21:17.921Z"
   },
   {
    "duration": 6,
    "start_time": "2023-06-12T07:21:17.938Z"
   },
   {
    "duration": 4679,
    "start_time": "2023-06-12T07:21:17.946Z"
   },
   {
    "duration": 1356,
    "start_time": "2023-06-12T07:21:22.627Z"
   },
   {
    "duration": 4,
    "start_time": "2023-06-12T07:21:23.985Z"
   },
   {
    "duration": 31,
    "start_time": "2023-06-12T07:21:23.991Z"
   },
   {
    "duration": 197,
    "start_time": "2023-06-12T07:21:24.025Z"
   },
   {
    "duration": 898,
    "start_time": "2023-06-12T07:21:24.225Z"
   },
   {
    "duration": 103559,
    "start_time": "2023-06-12T07:21:25.124Z"
   },
   {
    "duration": 1060,
    "start_time": "2023-06-12T07:23:08.684Z"
   },
   {
    "duration": 13,
    "start_time": "2023-06-12T07:23:09.746Z"
   },
   {
    "duration": 1493,
    "start_time": "2023-06-12T07:23:09.762Z"
   },
   {
    "duration": 801,
    "start_time": "2023-06-12T07:23:11.257Z"
   },
   {
    "duration": 1714,
    "start_time": "2023-06-14T17:39:45.631Z"
   },
   {
    "duration": 93,
    "start_time": "2023-06-14T17:39:47.346Z"
   },
   {
    "duration": 10,
    "start_time": "2023-06-14T17:39:47.440Z"
   },
   {
    "duration": 19,
    "start_time": "2023-06-14T17:39:47.452Z"
   },
   {
    "duration": 53,
    "start_time": "2023-06-14T17:39:47.472Z"
   },
   {
    "duration": 5,
    "start_time": "2023-06-14T17:39:47.526Z"
   },
   {
    "duration": 17,
    "start_time": "2023-06-14T17:39:47.532Z"
   },
   {
    "duration": 19,
    "start_time": "2023-06-14T17:39:47.550Z"
   },
   {
    "duration": 40,
    "start_time": "2023-06-14T17:39:47.571Z"
   },
   {
    "duration": 2941,
    "start_time": "2023-06-14T17:39:47.613Z"
   },
   {
    "duration": 1399,
    "start_time": "2023-06-14T17:39:50.555Z"
   },
   {
    "duration": 3,
    "start_time": "2023-06-14T17:39:51.955Z"
   },
   {
    "duration": 56,
    "start_time": "2023-06-14T17:39:51.959Z"
   },
   {
    "duration": 82,
    "start_time": "2023-06-14T17:39:52.016Z"
   },
   {
    "duration": 498,
    "start_time": "2023-06-14T17:39:52.099Z"
   },
   {
    "duration": 97461,
    "start_time": "2023-06-14T17:39:52.599Z"
   },
   {
    "duration": 953,
    "start_time": "2023-06-14T17:41:30.062Z"
   },
   {
    "duration": 9,
    "start_time": "2023-06-14T17:41:31.019Z"
   },
   {
    "duration": 1392,
    "start_time": "2023-06-14T17:41:31.030Z"
   },
   {
    "duration": 834,
    "start_time": "2023-06-14T17:41:32.424Z"
   },
   {
    "duration": 884,
    "start_time": "2023-06-14T17:42:26.117Z"
   },
   {
    "duration": 380,
    "start_time": "2023-06-14T17:51:41.518Z"
   },
   {
    "duration": 505,
    "start_time": "2023-06-14T17:51:47.883Z"
   }
  ],
  "kernelspec": {
   "display_name": "Python 3 (ipykernel)",
   "language": "python",
   "name": "python3"
  },
  "language_info": {
   "codemirror_mode": {
    "name": "ipython",
    "version": 3
   },
   "file_extension": ".py",
   "mimetype": "text/x-python",
   "name": "python",
   "nbconvert_exporter": "python",
   "pygments_lexer": "ipython3",
   "version": "3.9.12"
  },
  "toc": {
   "base_numbering": 1,
   "nav_menu": {},
   "number_sections": true,
   "sideBar": true,
   "skip_h1_title": true,
   "title_cell": "Table of Contents",
   "title_sidebar": "Contents",
   "toc_cell": false,
   "toc_position": {},
   "toc_section_display": true,
   "toc_window_display": false
  }
 },
 "nbformat": 4,
 "nbformat_minor": 2
}
